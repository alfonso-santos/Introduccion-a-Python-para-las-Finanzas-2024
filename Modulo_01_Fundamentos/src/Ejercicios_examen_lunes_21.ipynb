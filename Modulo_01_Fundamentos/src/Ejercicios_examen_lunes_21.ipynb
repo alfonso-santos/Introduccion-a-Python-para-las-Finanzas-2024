{
  "nbformat": 4,
  "nbformat_minor": 0,
  "metadata": {
    "colab": {
      "provenance": [],
      "authorship_tag": "ABX9TyOPmmPu6VqnvVm4OdRpofBX",
      "include_colab_link": true
    },
    "kernelspec": {
      "name": "python3",
      "display_name": "Python 3"
    },
    "language_info": {
      "name": "python"
    }
  },
  "cells": [
    {
      "cell_type": "markdown",
      "metadata": {
        "id": "view-in-github",
        "colab_type": "text"
      },
      "source": [
        "<a href=\"https://colab.research.google.com/github/alfonso-santos/Introduccion-a-Python-para-las-Finanzas-2024/blob/main/Modulo_01_Fundamentos/src/Ejercicios_examen_lunes_21.ipynb\" target=\"_parent\"><img src=\"https://colab.research.google.com/assets/colab-badge.svg\" alt=\"Open In Colab\"/></a>"
      ]
    },
    {
      "cell_type": "markdown",
      "source": [
        "# Ejercicios examen lunes 21"
      ],
      "metadata": {
        "id": "nyvINZpP1hcz"
      }
    },
    {
      "cell_type": "markdown",
      "source": [
        "1) Sumar todos los elementos de una lista: Dada una lista de números, utiliza un bucle for para sumar todos los elementos"
      ],
      "metadata": {
        "id": "rhKZ6klI1yEK"
      }
    },
    {
      "cell_type": "code",
      "execution_count": null,
      "metadata": {
        "id": "6Bm6PIKw1d4P"
      },
      "outputs": [],
      "source": [
        "# Ejercicio 1\n",
        "lista_ej_1 = [1,2,3,4,5,6,6,5,4,3,2,1]\n",
        "\n",
        "# Escribe aquí tu código\n"
      ]
    },
    {
      "cell_type": "markdown",
      "source": [
        "2) Contar números pares: Dada una lista de enteros, usa un bucle for y un condicional para contar cuántos números son pares."
      ],
      "metadata": {
        "id": "eJ_ZzRFz2hPC"
      }
    },
    {
      "cell_type": "code",
      "source": [
        "# Ejercicio 2\n",
        "lista_ej_2 = [1,2,3,4,5,6,6,5,4,3,2,1]\n",
        "\n",
        "# Escribe aquí tu código\n"
      ],
      "metadata": {
        "id": "6b1dS1CD2g8D"
      },
      "execution_count": null,
      "outputs": []
    },
    {
      "cell_type": "markdown",
      "source": [
        "3) Filtrar números negativos: Dada una lista de números, crea una nueva lista que solo contenga los números negativos utilizando un bucle y un condicional."
      ],
      "metadata": {
        "id": "pt5VM5Q_2p4-"
      }
    },
    {
      "cell_type": "code",
      "source": [
        "# Ejercicio 3\n",
        "import random\n",
        "lista_ej_3 = [random.randint(-10, 10) for _ in range(10)]\n",
        "\n",
        "# Escribe aquí tu código\n"
      ],
      "metadata": {
        "id": "-daYMG6i2rRW"
      },
      "execution_count": null,
      "outputs": []
    },
    {
      "cell_type": "markdown",
      "source": [
        "4) Multiplicar todos los elementos por 2: Dada una lista, crea una nueva lista que contenga todos los elementos multiplicados por 2."
      ],
      "metadata": {
        "id": "Ay94raYj2v6H"
      }
    },
    {
      "cell_type": "code",
      "source": [
        "# Ejercicio 4\n",
        "lista_ej_4 = [1,2,3,4,5,6,6,5,4,3,2,1]\n",
        "\n",
        "# Escribe aquí tu código\n"
      ],
      "metadata": {
        "id": "d_Xfhitk2uGg"
      },
      "execution_count": null,
      "outputs": []
    },
    {
      "cell_type": "markdown",
      "source": [
        "5) Revertir una lista: Usando un bucle for, crea una nueva lista que sea la inversa de la lista original."
      ],
      "metadata": {
        "id": "4_immpsf218J"
      }
    },
    {
      "cell_type": "code",
      "source": [
        "# Ejercicio 5\n",
        "lista_ej_5 = [2,5,7,4,21,8,4,3,6,9,0]\n",
        "\n",
        "# Escribe aqui tu código\n"
      ],
      "metadata": {
        "id": "DMRUxEsn25Ub"
      },
      "execution_count": null,
      "outputs": []
    },
    {
      "cell_type": "markdown",
      "source": [
        "6) Encontrar el número más grande: Dada una lista de números, utiliza un bucle for y condicionales para encontrar el número más grande."
      ],
      "metadata": {
        "id": "gwQZurvP27Qb"
      }
    },
    {
      "cell_type": "code",
      "source": [
        "# Ejercicio 6\n",
        "lista_ej_6 = [2,5,7,4,21,8,4,3,6,9,0]\n",
        "\n",
        "# Escribe aqui tu código\n"
      ],
      "metadata": {
        "id": "XUyUCbAi2_nG"
      },
      "execution_count": null,
      "outputs": []
    },
    {
      "cell_type": "markdown",
      "source": [
        "7) Eliminar duplicados: Dada una lista, crea una nueva lista que no contenga elementos duplicados."
      ],
      "metadata": {
        "id": "C6W3EARl3Ba0"
      }
    },
    {
      "cell_type": "code",
      "source": [
        "# Ejercicio 7\n",
        "lista_ej_7 = [1,2,3,4,5,6,6,5,4,3,2,1]\n",
        "\n",
        "# Escribe aquí tu código\n"
      ],
      "metadata": {
        "id": "PoLAgSiO3HwL"
      },
      "execution_count": 1,
      "outputs": []
    },
    {
      "cell_type": "markdown",
      "source": [
        "8) Contar cuántos números son mayores que 10: Dada una lista de números, cuenta cuántos son mayores que 10."
      ],
      "metadata": {
        "id": "dxFIlfP13LA_"
      }
    },
    {
      "cell_type": "code",
      "source": [
        "# Ejercicio 8\n",
        "lista_ej_8 = list(range(2,15))\n",
        "\n",
        "# Escribe aquí tu código\n"
      ],
      "metadata": {
        "id": "GVpxUUg73Jh1"
      },
      "execution_count": null,
      "outputs": []
    },
    {
      "cell_type": "markdown",
      "source": [
        "9) Calcular el producto de todos los elementos: Usa un bucle for para calcular el producto de todos los elementos de una lista de números."
      ],
      "metadata": {
        "id": "qCYcPjSV3OlY"
      }
    },
    {
      "cell_type": "code",
      "source": [
        "# Ejercicio 9\n",
        "lista_ej_9 = [2,5,7,4,21,8,4,3,6,9,0]\n",
        "\n",
        "# Escribe aqui tu código\n"
      ],
      "metadata": {
        "id": "kfs4HVYt3R5Z"
      },
      "execution_count": null,
      "outputs": []
    },
    {
      "cell_type": "markdown",
      "source": [
        "10) Suma de los números impares: Dada una lista de números, utiliza un bucle y un condicional para sumar solo los números impares."
      ],
      "metadata": {
        "id": "c0QUZSWG3W5t"
      }
    },
    {
      "cell_type": "code",
      "source": [
        "# Ejercicio 10\n",
        "lista_ej_10 = [2,5,7,4,21,8,4,3,6,9,0]\n",
        "\n",
        "# Escribe aqui tu código\n"
      ],
      "metadata": {
        "id": "SZb0LNNq3aX0"
      },
      "execution_count": null,
      "outputs": []
    },
    {
      "cell_type": "markdown",
      "source": [
        "11) Comprobar si un número está en la lista: Dada una lista y un número, utiliza un bucle for y un condicional para verificar si el número está en la lista."
      ],
      "metadata": {
        "id": "lw8pi5pd3cK5"
      }
    },
    {
      "cell_type": "code",
      "source": [
        "# Ejercicio 11\n",
        "lista_ej_11 = [2,5,7,4,21,8,4,3,6,9,0]\n",
        "elem_encontrar = 11\n",
        "\n",
        "# Escribe aqui tu código\n"
      ],
      "metadata": {
        "id": "-PrQvrFF3eUL"
      },
      "execution_count": null,
      "outputs": []
    },
    {
      "cell_type": "markdown",
      "source": [
        "12) Sumar listas elemento por elemento: Dadas dos listas del mismo tamaño, suma los elementos correspondientes de ambas listas."
      ],
      "metadata": {
        "id": "Gr5leuEf3nRh"
      }
    },
    {
      "cell_type": "code",
      "source": [
        "# Ejercicio 12\n",
        "lista_ej_12 = [2,5,7,4,21,8,4,3,6,9,0]\n",
        "lista_ej_12_aux = [8,5,9,3,2,6,7,1,0,9,3]\n",
        "\n",
        "# Escribe aqui tu código\n"
      ],
      "metadata": {
        "id": "tWu5IPla3k8y"
      },
      "execution_count": null,
      "outputs": []
    },
    {
      "cell_type": "markdown",
      "source": [
        "13) Contar palabras largas en una lista: Dada una lista de palabras, cuenta cuántas tienen más de 5 letras."
      ],
      "metadata": {
        "id": "pF0azbRr3tlR"
      }
    },
    {
      "cell_type": "code",
      "source": [
        "# Ejercicio 13\n",
        "lista_ej_13 = ['gato', 'elefante', 'ratón', 'rinoceronte', 'pez', 'mamouth']\n",
        "\n",
        "# Escribe aqui tu código\n"
      ],
      "metadata": {
        "id": "tP0Y32Q13u2g"
      },
      "execution_count": null,
      "outputs": []
    },
    {
      "cell_type": "markdown",
      "source": [
        "14) Crear una lista de cuadrados: Dada una lista de números, genera una nueva lista que contenga los cuadrados de esos números."
      ],
      "metadata": {
        "id": "tGHRLVHr3yC1"
      }
    },
    {
      "cell_type": "code",
      "source": [
        "# Ejercicio 14\n",
        "lista_ej_14 = [8,5,9,3,2,6,7,1,0,9,3]\n",
        "\n",
        "# Escribe aqui tu código\n"
      ],
      "metadata": {
        "id": "P64Rz15o3y_V"
      },
      "execution_count": null,
      "outputs": []
    },
    {
      "cell_type": "markdown",
      "source": [
        "15) Eliminar elementos menores que 5: Dada una lista de números, elimina todos los elementos que sean menores que 5."
      ],
      "metadata": {
        "id": "fq0Wlobw327N"
      }
    },
    {
      "cell_type": "code",
      "source": [
        "# Ejercicio 15\n",
        "lista_ej_15 = [8,5,9,3,2,6,7,1,0,9,3]\n",
        "\n",
        "# Escribe aqui tu código\n"
      ],
      "metadata": {
        "id": "c2_3ZF5K3331"
      },
      "execution_count": null,
      "outputs": []
    },
    {
      "cell_type": "markdown",
      "source": [
        "16) Comprobar si una lista está ordenada: Usa un bucle for para comprobar si una lista está ordenada de forma ascendente."
      ],
      "metadata": {
        "id": "HqDw44y03-GU"
      }
    },
    {
      "cell_type": "code",
      "source": [
        "# Ejercicio 16\n",
        "lista_ej_16 = [1,2,3,4,6,8,9,3,5,2]\n",
        "\n",
        "# Escribe aqui tu código\n"
      ],
      "metadata": {
        "id": "bQHuXVKi3-9T"
      },
      "execution_count": null,
      "outputs": []
    },
    {
      "cell_type": "markdown",
      "source": [
        "17) Concatenar listas: Dadas dos listas, úsalas para crear una tercera lista que contenga los elementos de ambas."
      ],
      "metadata": {
        "id": "KpYIMEpF4CHd"
      }
    },
    {
      "cell_type": "code",
      "source": [
        "# Ejercicio 17\n",
        "lista_ej_17 = [2,5,7,4,21,8,4,3,6,9,0]\n",
        "lista_ej_17_aux = [8,5,9,3,2,6,7,1,0,9,3]\n",
        "\n",
        "# Escribe aqui tu código\n"
      ],
      "metadata": {
        "id": "AfzI7wpr4Djr"
      },
      "execution_count": null,
      "outputs": []
    },
    {
      "cell_type": "markdown",
      "source": [
        "18) Contar apariciones de un elemento: Dada una lista y un elemento, usa un bucle for para contar cuántas veces aparece ese elemento en la lista."
      ],
      "metadata": {
        "id": "AJ6JeZlr4IRV"
      }
    },
    {
      "cell_type": "code",
      "source": [
        "# Ejercicio 18\n",
        "lista_ej_18 = [5,4,3,6,5,8,3,5,2,9,5,7,0,5]\n",
        "elem_contar = 5\n",
        "\n",
        "# Escribe aqui tu código\n"
      ],
      "metadata": {
        "id": "U7S9kIIG4Jbp"
      },
      "execution_count": 6,
      "outputs": []
    },
    {
      "cell_type": "markdown",
      "source": [
        "19) Dada una lista, crea otra lista que contenga unicamente los primeros 3 elementos y los últimos 3 elementos de la primera lista."
      ],
      "metadata": {
        "id": "qKQYBtKw98w9"
      }
    },
    {
      "cell_type": "code",
      "source": [
        "# Ejercicio 19\n",
        "lista_ej_18 = [5,4,3,6,5,8,3,5,2,9,5,7,0,5]\n",
        "\n",
        "# Escribe aqui tu código\n"
      ],
      "metadata": {
        "id": "8NTbC2iQ-NIq"
      },
      "execution_count": null,
      "outputs": []
    },
    {
      "cell_type": "markdown",
      "source": [
        "20) Diccionarios.\n",
        "\n",
        "Tenemos un diccionario que contiene 10 tickers con su valor.\n",
        "\n",
        "Tenemos un segundo diccionario que contiene los mismos 10 tickers con la cantidad de acciones que tenemos de ese ticker.\n",
        "\n",
        "Usando un bucle, calcula cuanto vale mi cartera tienendo en cuenta que el valor es la suma de la cantidad de acciones de cada ticker * su valor"
      ],
      "metadata": {
        "id": "r42t9Tl38Dz_"
      }
    },
    {
      "cell_type": "code",
      "source": [
        "# Ejericico largo\n",
        "valores = {\n",
        "    'AAPL': 174.55,\n",
        "    'GOOGL': 138.20,\n",
        "    'AMZN': 125.65,\n",
        "    'TSLA': 265.75,\n",
        "    'MSFT': 313.45,\n",
        "    'NFLX': 405.50,\n",
        "    'NVDA': 450.10,\n",
        "    'META': 290.25,\n",
        "    'INTC': 35.40,\n",
        "    'IBM': 135.80\n",
        "}\n",
        "\n",
        "acciones = {\n",
        "    'AAPL': 50,\n",
        "    'GOOGL': 30,\n",
        "    'AMZN': 20,\n",
        "    'TSLA': 15,\n",
        "    'MSFT': 40,\n",
        "    'NFLX': 25,\n",
        "    'NVDA': 10,\n",
        "    'META': 35,\n",
        "    'INTC': 60,\n",
        "    'IBM': 45\n",
        "}"
      ],
      "metadata": {
        "colab": {
          "base_uri": "https://localhost:8080/"
        },
        "id": "ijc-U1LB8sM7",
        "outputId": "93485f36-803e-45a7-b889-18fe17b0c366"
      },
      "execution_count": 7,
      "outputs": [
        {
          "output_type": "stream",
          "name": "stdout",
          "text": [
            "El valor total de la cartera es: $64943.00\n"
          ]
        }
      ]
    }
  ]
}