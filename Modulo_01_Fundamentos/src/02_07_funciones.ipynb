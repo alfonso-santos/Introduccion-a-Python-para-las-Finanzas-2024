{
 "cells": [
  {
   "cell_type": "markdown",
   "metadata": {},
   "source": [
    "# Funciones"
   ]
  },
  {
   "cell_type": "markdown",
   "metadata": {},
   "source": [
    "Una función en programación es similar a una receta de cocina. Así como una receta te dice los pasos para hacer un plato específico, una función te dice los pasos para realizar una tarea específica.\n",
    "\n",
    "En Python, una función se define con la palabra clave `def` y se le da un nombre. La función puede recibir **parámetros**, que son como los ingredientes en una receta, y devuelve un **resultado**, que sería el plato terminado. Aquí tienes un ejemplo sencillo:\n",
    "\n",
    "```python\n",
    "def sumar(a, b):\n",
    "    resultado = a + b\n",
    "    return resultado\n",
    "```\n",
    "\n",
    "En este caso, `sumar` es el nombre de la función, y `a` y `b` son los parámetros. La función toma estos dos números, los suma y luego devuelve el resultado. Puedes \"llamar\" a esta función con diferentes números para obtener su suma, así:\n",
    "\n",
    "```python\n",
    "print(sumar(5, 3))  # Esto imprimirá 8, que es la suma de 5 y 3.\n",
    "```\n",
    "\n",
    "Las funciones son útiles porque te permiten reutilizar código sin tener que escribirlo nuevamente, y hacen que tu programa sea más organizado y fácil de entender.\n",
    "\n",
    "Además, cuando defines una función, estás configurándola con instrucciones específicas. Estas instrucciones se ejecutarán cada vez que llames a la función, **sin importar dónde esté en el código**."
   ]
  },
  {
   "cell_type": "markdown",
   "metadata": {},
   "source": [
    "Las instrucciones básicas para definir una función son:\n",
    "\n",
    "``` python\n",
    "def nombre_de_la_funcion(argumento_1,argumento_2,...,argumento_n):\n",
    "    '''Documentación'''\n",
    "    Bloque de codigo\n",
    "    return <Valor>\n",
    "```"
   ]
  },
  {
   "cell_type": "markdown",
   "metadata": {},
   "source": [
    "Buenas prácticas a la hora de definir una función:\n",
    "* Nombre de la función en infinitivo.\n",
    "* Indicar los tipos de los parámetros recibidos.\n",
    "* Indicar el tipo del valor devuelto.\n",
    "* Documentar la función.\n",
    "\n",
    "Para aquellos que uséis VSCode --> Extensión \"autoDocstring\""
   ]
  },
  {
   "cell_type": "markdown",
   "metadata": {},
   "source": [
    "## Definición"
   ]
  },
  {
   "cell_type": "code",
   "execution_count": 2,
   "metadata": {},
   "outputs": [],
   "source": [
    "def sumar(a: int, b: int) -> int:\n",
    "    \"\"\"Suma dos números.\n",
    "\n",
    "    Args:\n",
    "        a (int): Sumando 1\n",
    "        b (int): Sumando 2\n",
    "\n",
    "    Returns:\n",
    "        int: Resultado de la suma\n",
    "    \"\"\"\n",
    "    resultado = a + b\n",
    "    return resultado"
   ]
  },
  {
   "cell_type": "code",
   "execution_count": 3,
   "metadata": {},
   "outputs": [
    {
     "name": "stdout",
     "output_type": "stream",
     "text": [
      "3\n"
     ]
    }
   ],
   "source": [
    "a = sumar(1, 2)\n",
    "print(a)"
   ]
  },
  {
   "cell_type": "markdown",
   "metadata": {},
   "source": [
    "¿Cómo se llama a las funciones?\n",
    "\n",
    "- Si no se ponen los nombres de los argumentos, toman valor en el orden en el que se pasan.\n",
    "- Los argumentos pueden ser pasados en cualquier orden si se ponen los nombres.\n",
    "- Si se pone nombre a un argumento, a partir de ahí se tienen que poner los nombres siempre."
   ]
  },
  {
   "cell_type": "code",
   "execution_count": 5,
   "metadata": {},
   "outputs": [],
   "source": [
    "def sumar(a: int, b: int, c: int) -> int:\n",
    "    \"\"\"Suma tres números.\n",
    "\n",
    "    Args:\n",
    "        a (int): Sumando 1\n",
    "        b (int): Sumando 2\n",
    "        c (int): Sumando 3\n",
    "\n",
    "    Returns:\n",
    "        int: Resultado de la suma\n",
    "    \"\"\"\n",
    "    resultado = a + b + c\n",
    "    return resultado"
   ]
  },
  {
   "cell_type": "code",
   "execution_count": 6,
   "metadata": {},
   "outputs": [
    {
     "data": {
      "text/plain": [
       "6"
      ]
     },
     "execution_count": 6,
     "metadata": {},
     "output_type": "execute_result"
    }
   ],
   "source": [
    "sumar(1, 2, 3)"
   ]
  },
  {
   "cell_type": "code",
   "execution_count": 7,
   "metadata": {},
   "outputs": [
    {
     "data": {
      "text/plain": [
       "6"
      ]
     },
     "execution_count": 7,
     "metadata": {},
     "output_type": "execute_result"
    }
   ],
   "source": [
    "sumar(a=1, b=2, c=3)"
   ]
  },
  {
   "cell_type": "code",
   "execution_count": 9,
   "metadata": {},
   "outputs": [
    {
     "data": {
      "text/plain": [
       "6"
      ]
     },
     "execution_count": 9,
     "metadata": {},
     "output_type": "execute_result"
    }
   ],
   "source": [
    "sumar(1, c=2, b=3)"
   ]
  },
  {
   "cell_type": "markdown",
   "metadata": {},
   "source": [
    "## Argumentos por defecto"
   ]
  },
  {
   "cell_type": "code",
   "execution_count": 12,
   "metadata": {},
   "outputs": [],
   "source": [
    "def mi_funcion_lineal(x: int, a: int = 5, b: int = 10) -> int:\n",
    "    \"\"\"Implementa una función lineal.\n",
    "\n",
    "    Args:\n",
    "        x (int): Variable independiente\n",
    "        a (int, optional): Pendiente. Defaults to 5.\n",
    "        b (int, optional): Corte en eje Y. Defaults to 10.\n",
    "\n",
    "    Returns:\n",
    "        int: Resultado de la función lineal y = a * x + b\n",
    "    \"\"\"\n",
    "    y = a * x + b\n",
    "    return y"
   ]
  },
  {
   "cell_type": "code",
   "execution_count": 13,
   "metadata": {},
   "outputs": [
    {
     "data": {
      "text/plain": [
       "20"
      ]
     },
     "execution_count": 13,
     "metadata": {},
     "output_type": "execute_result"
    }
   ],
   "source": [
    "mi_funcion_lineal(2)"
   ]
  },
  {
   "cell_type": "code",
   "execution_count": 14,
   "metadata": {},
   "outputs": [
    {
     "data": {
      "text/plain": [
       "5"
      ]
     },
     "execution_count": 14,
     "metadata": {},
     "output_type": "execute_result"
    }
   ],
   "source": [
    "mi_funcion_lineal(x=2, a=2, b=1)"
   ]
  },
  {
   "cell_type": "markdown",
   "metadata": {},
   "source": [
    "## Ámbito o contexto de las variables"
   ]
  },
  {
   "cell_type": "code",
   "execution_count": 19,
   "metadata": {},
   "outputs": [],
   "source": [
    "def mi_funcion(x):\n",
    "    print(f\"Valor de x dentro de la función = {x}\")\n",
    "    return x * 2\n"
   ]
  },
  {
   "cell_type": "code",
   "execution_count": 20,
   "metadata": {},
   "outputs": [
    {
     "name": "stdout",
     "output_type": "stream",
     "text": [
      "Valor de x dentro de la función = 2\n"
     ]
    },
    {
     "data": {
      "text/plain": [
       "4"
      ]
     },
     "execution_count": 20,
     "metadata": {},
     "output_type": "execute_result"
    }
   ],
   "source": [
    "mi_funcion(2)"
   ]
  },
  {
   "cell_type": "code",
   "execution_count": 22,
   "metadata": {},
   "outputs": [
    {
     "name": "stdout",
     "output_type": "stream",
     "text": [
      "x antes de llamar a la función = 3\n",
      "Valor de x dentro de la función = 3\n",
      "x después de llamar a la función = 3\n"
     ]
    }
   ],
   "source": [
    "x = 3\n",
    "print(f\"x antes de llamar a la función = {x}\")\n",
    "\n",
    "mi_funcion(x)\n",
    "\n",
    "print(f\"x después de llamar a la función = {x}\")"
   ]
  },
  {
   "cell_type": "code",
   "execution_count": 27,
   "metadata": {},
   "outputs": [],
   "source": [
    "def mi_funcion(x):\n",
    "    print(f\"Valor de x dentro de la función antes de modificarlo = {x}\")\n",
    "\n",
    "    x = x * 2\n",
    "\n",
    "    print(f\"Valor de x dentro de la función después de modificarlo = {x}\")\n",
    "    \n",
    "    return x\n",
    "\n",
    "x = 3\n",
    "print(f\"x antes de llamar a la función = {x}\")\n",
    "\n",
    "mi_funcion(x)\n",
    "\n",
    "print(f\"x después de llamar a la función = {x}\")"
   ]
  },
  {
   "cell_type": "code",
   "execution_count": 34,
   "metadata": {},
   "outputs": [
    {
     "name": "stdout",
     "output_type": "stream",
     "text": [
      "x antes de llamar a la función = 3\n",
      "y antes de llamar a la función = 1\n",
      "Valor de x dentro de la función antes de modificarlo = 3\n",
      "Valor de y dentro de la función antes de modificarlo = 1\n",
      "Valor de x dentro de la función después de modificarlo = 4\n",
      "Valor de y dentro de la función después de modificarlo = 5\n",
      "x después de llamar a la función = 3\n",
      "y después de llamar a la función = 5\n"
     ]
    }
   ],
   "source": [
    "y = 1\n",
    "\n",
    "def mi_funcion(x):\n",
    "    global y # Indicamos que queremos usar dentro de \"mi_funcion\" la variable \"y\" que está declarada fuera de ella\n",
    "\n",
    "    print(f\"Valor de x dentro de la función antes de modificarlo = {x}\")\n",
    "    print(f\"Valor de y dentro de la función antes de modificarlo = {y}\")\n",
    "\n",
    "    x = x + y\n",
    "    y = 5\n",
    "\n",
    "    print(f\"Valor de x dentro de la función después de modificarlo = {x}\")\n",
    "    print(f\"Valor de y dentro de la función después de modificarlo = {y}\")\n",
    "\n",
    "    return x\n",
    "\n",
    "x = 3\n",
    "print(f\"x antes de llamar a la función = {x}\")\n",
    "print(f\"y antes de llamar a la función = {y}\")\n",
    "\n",
    "mi_funcion(x)\n",
    "\n",
    "print(f\"x después de llamar a la función = {x}\")\n",
    "print(f\"y después de llamar a la función = {y}\")"
   ]
  },
  {
   "cell_type": "markdown",
   "metadata": {},
   "source": [
    "## Valores de retorno de una función"
   ]
  },
  {
   "cell_type": "code",
   "execution_count": 35,
   "metadata": {},
   "outputs": [],
   "source": [
    "def mi_funcion(x):\n",
    "    y = x + 1\n",
    "    z = y + 1\n",
    "    return z, y"
   ]
  },
  {
   "cell_type": "code",
   "execution_count": 36,
   "metadata": {},
   "outputs": [
    {
     "name": "stdout",
     "output_type": "stream",
     "text": [
      "(4, 3)\n",
      "<class 'tuple'>\n"
     ]
    }
   ],
   "source": [
    "# Podemos devolver una tupla.\n",
    "a = mi_funcion(2)\n",
    "print(a)\n",
    "print(type(a))"
   ]
  },
  {
   "cell_type": "code",
   "execution_count": 37,
   "metadata": {},
   "outputs": [
    {
     "name": "stdout",
     "output_type": "stream",
     "text": [
      "4\n",
      "3\n"
     ]
    }
   ],
   "source": [
    "# O podemos hacer unpacking.\n",
    "a, b = mi_funcion(2)\n",
    "print(a)\n",
    "print(b)"
   ]
  }
 ],
 "metadata": {
  "kernelspec": {
   "display_name": "Python 3.8.8 ('base')",
   "language": "python",
   "name": "python3"
  },
  "language_info": {
   "codemirror_mode": {
    "name": "ipython",
    "version": 3
   },
   "file_extension": ".py",
   "mimetype": "text/x-python",
   "name": "python",
   "nbconvert_exporter": "python",
   "pygments_lexer": "ipython3",
   "version": "3.10.6"
  },
  "orig_nbformat": 4,
  "vscode": {
   "interpreter": {
    "hash": "3a2a03ea413f8be244ba01daf0e257f98f0dabeb03c7836e7000a0f3738aa8c9"
   }
  }
 },
 "nbformat": 4,
 "nbformat_minor": 2
}
