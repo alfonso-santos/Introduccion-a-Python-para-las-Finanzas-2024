{
  "nbformat": 4,
  "nbformat_minor": 0,
  "metadata": {
    "colab": {
      "provenance": [],
      "authorship_tag": "ABX9TyONrwyw40PD2w7XcLllJe3r",
      "include_colab_link": true
    },
    "kernelspec": {
      "name": "python3",
      "display_name": "Python 3"
    },
    "language_info": {
      "name": "python"
    }
  },
  "cells": [
    {
      "cell_type": "markdown",
      "metadata": {
        "id": "view-in-github",
        "colab_type": "text"
      },
      "source": [
        "<a href=\"https://colab.research.google.com/github/alfonso-santos/Introduccion-a-Python-para-las-Finanzas-2024/blob/main/Modulo_01_Fundamentos/src/Prueba.ipynb\" target=\"_parent\"><img src=\"https://colab.research.google.com/assets/colab-badge.svg\" alt=\"Open In Colab\"/></a>"
      ]
    },
    {
      "cell_type": "markdown",
      "source": [
        "# Simulacro examen (hasta 1.6)"
      ],
      "metadata": {
        "id": "sufew__y1jQv"
      }
    },
    {
      "cell_type": "markdown",
      "source": [
        "Tienes 20 minutos para relizar esta prueba.\n",
        "\n",
        "Recuerda que no puedes usar chatGPT pero SI tienes acceso a los notebooks de clase.\n",
        "\n"
      ],
      "metadata": {
        "id": "sq77uAks1op-"
      }
    },
    {
      "cell_type": "markdown",
      "source": [
        "## Ejercicio 1\n",
        "\n",
        "Tenemos un cliente que quiere acciones de ciertas compañías: Telefónica, Apple, Microsoft, Tesla.\n",
        "\n",
        "En total quiere una cartera 2000 acciones repartidas de la siguiente manera:\n",
        "- Telefónica: 20%\n",
        "- Apple: 15%\n",
        "- Microsoft: 40%\n",
        "- Tesla 25%\n",
        "\n",
        "El valor de cada acción ahora mismo es:\n",
        "- Telefónica: 48.6\n",
        "- Apple: 115.2\n",
        "- Microsoft: 65.9\n",
        "- Tesla 180.3\n",
        "\n",
        "a) Calcula e imprime el valor de las acciones por separado.\n",
        "\n",
        "b) Calcula e imprime el valor de la cartera de valores.\n"
      ],
      "metadata": {
        "id": "lgleIotS2Coi"
      }
    },
    {
      "cell_type": "code",
      "execution_count": null,
      "metadata": {
        "id": "1Crl4QFz1iSf"
      },
      "outputs": [],
      "source": [
        "# Realiza aquí el A"
      ]
    },
    {
      "cell_type": "code",
      "source": [
        "# Realiza aquí el B"
      ],
      "metadata": {
        "id": "4grXinLm3cwZ"
      },
      "execution_count": null,
      "outputs": []
    },
    {
      "cell_type": "markdown",
      "source": [
        "## Ejercicio 2"
      ],
      "metadata": {
        "id": "A5rjBKNV8lql"
      }
    },
    {
      "cell_type": "markdown",
      "source": [
        "Tenemos un algoritmo mágico que predice el aumento del valor de cada acción dentro de cinco años.\n",
        "\n",
        "El aumento es el siguiente:\n",
        "- Telefónica: -0.2\n",
        "- Apple: 0.8\n",
        "- Microsoft: 0.5\n",
        "- Tesla 1.3\n",
        "\n",
        "a) Calcula e imprime el valor de las acciones dentro de 5 años por separado.\n",
        "\n",
        "b) Calcula e imprime el valor de la cartera de valores dentro de 5 años y la diferencia con la actual."
      ],
      "metadata": {
        "id": "UVBkBr1b8pTJ"
      }
    },
    {
      "cell_type": "code",
      "source": [
        "# Realiza aquí el A"
      ],
      "metadata": {
        "id": "IKvdObnM9Wkf"
      },
      "execution_count": null,
      "outputs": []
    },
    {
      "cell_type": "code",
      "source": [
        "# Realiza aquí el B"
      ],
      "metadata": {
        "id": "43wsF8sw9iSU"
      },
      "execution_count": null,
      "outputs": []
    }
  ]
}