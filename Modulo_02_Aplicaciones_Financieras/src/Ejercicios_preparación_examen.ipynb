{
  "nbformat": 4,
  "nbformat_minor": 0,
  "metadata": {
    "colab": {
      "provenance": [],
      "authorship_tag": "ABX9TyMj2S5NwbRSgT/6E0usfE5U",
      "include_colab_link": true
    },
    "kernelspec": {
      "name": "python3",
      "display_name": "Python 3"
    },
    "language_info": {
      "name": "python"
    }
  },
  "cells": [
    {
      "cell_type": "markdown",
      "metadata": {
        "id": "view-in-github",
        "colab_type": "text"
      },
      "source": [
        "<a href=\"https://colab.research.google.com/github/alfonso-santos/Introduccion-a-Python-para-las-Finanzas-2024/blob/main/Modulo_02_Aplicaciones_Financieras/src/Ejercicios_preparaci%C3%B3n_examen.ipynb\" target=\"_parent\"><img src=\"https://colab.research.google.com/assets/colab-badge.svg\" alt=\"Open In Colab\"/></a>"
      ]
    },
    {
      "cell_type": "markdown",
      "source": [
        "Ejercicios Propuestos para Repasar Conceptos\n",
        "\n",
        "Descarga de Datos de Criptomonedas\n",
        "* Descarga los precios de cierre ajustado de Bitcoin, Ethereum, Cardano, Solana y Polkadot desde el 1 de enero de 2021 hasta el 31 de diciembre de 2023 en un DataFrame df_crypto."
      ],
      "metadata": {
        "id": "iIqY15Cvu1yz"
      }
    },
    {
      "cell_type": "code",
      "source": [],
      "metadata": {
        "id": "JKIPgvjtvcZj"
      },
      "execution_count": null,
      "outputs": []
    },
    {
      "cell_type": "markdown",
      "source": [
        "Descarga de Datos de Startups Tecnológicas\n",
        "* Descarga los precios de cierre ajustado de Rivian, Airbnb, Palantir, DoorDash y Snowflake desde el 1 de enero de 2021 hasta el 31 de diciembre de 2023 en un DataFrame df_tech."
      ],
      "metadata": {
        "id": "yXP8naQDveFN"
      }
    },
    {
      "cell_type": "code",
      "source": [],
      "metadata": {
        "id": "ImmtO269vdpV"
      },
      "execution_count": null,
      "outputs": []
    },
    {
      "cell_type": "markdown",
      "source": [
        "Modificar Valores Faltantes\n",
        "* En el DataFrame df_crypto, cambia los precios de marzo de 2022 a NaN para simular pérdida de datos en esa fecha.\n"
      ],
      "metadata": {
        "id": "IoV4uwrFvh_K"
      }
    },
    {
      "cell_type": "code",
      "source": [],
      "metadata": {
        "id": "B-rdXsvAvhyR"
      },
      "execution_count": null,
      "outputs": []
    },
    {
      "cell_type": "markdown",
      "source": [
        "Visualización de Datos Faltantes\n",
        "* Usa missingno para visualizar los valores faltantes en df_tech y verifica si existen patrones de valores NaN en el conjunto de datos."
      ],
      "metadata": {
        "id": "srW5s4xDvle6"
      }
    },
    {
      "cell_type": "code",
      "source": [],
      "metadata": {
        "id": "kRgQptKpvqRi"
      },
      "execution_count": null,
      "outputs": []
    },
    {
      "cell_type": "markdown",
      "source": [
        "Relleno de Datos Faltantes\n",
        "* Rellena los valores NaN en df_crypto utilizando la media de cada columna y muestra las primeras filas para comprobar."
      ],
      "metadata": {
        "id": "UPfEOZqzvqqd"
      }
    },
    {
      "cell_type": "code",
      "source": [],
      "metadata": {
        "id": "JQ1pcBQ8vYNE"
      },
      "execution_count": null,
      "outputs": []
    },
    {
      "cell_type": "markdown",
      "source": [
        "Unión de DataFrames\n",
        "* Combina df_crypto y df_tech en un DataFrame data_assets, manteniendo solo las fechas en las que ambos conjuntos tienen datos."
      ],
      "metadata": {
        "id": "ouldvn2uvY6T"
      }
    },
    {
      "cell_type": "code",
      "source": [],
      "metadata": {
        "id": "NYw9uiDRvwc2"
      },
      "execution_count": null,
      "outputs": []
    },
    {
      "cell_type": "markdown",
      "source": [
        "Filtrado por Rango de Fechas y Activos Seleccionados\n",
        "* Filtra data_assets para mostrar únicamente las fechas de mayo de 2022 a mayo de 2023 y los activos Bitcoin, Ethereum, Rivian, Palantir y Snowflake."
      ],
      "metadata": {
        "id": "ImDK802lvxMR"
      }
    },
    {
      "cell_type": "code",
      "source": [],
      "metadata": {
        "id": "CkUg7ge0vw_Y"
      },
      "execution_count": null,
      "outputs": []
    },
    {
      "cell_type": "markdown",
      "source": [
        "Visualización de Series de Precios\n",
        "* Grafica los precios de cierre ajustado de Bitcoin, Ethereum y Rivian en el mismo gráfico para comparar su evolución."
      ],
      "metadata": {
        "id": "9yJdHmKOvzYJ"
      }
    },
    {
      "cell_type": "code",
      "source": [],
      "metadata": {
        "id": "m4IM7HXkvwaw"
      },
      "execution_count": null,
      "outputs": []
    },
    {
      "cell_type": "markdown",
      "source": [
        "Cálculo de Rentabilidades Diarias\n",
        "* Calcula las rentabilidades aritméticas diarias para todos los activos en data_assets y guárdalas en returns_assets."
      ],
      "metadata": {
        "id": "13Xw2eUgv1e4"
      }
    },
    {
      "cell_type": "code",
      "source": [],
      "metadata": {
        "id": "vdU8Z4CMvwYE"
      },
      "execution_count": null,
      "outputs": []
    },
    {
      "cell_type": "markdown",
      "source": [
        "Gráfica de Rentabilidades Diarias\n",
        "* Grafica las rentabilidades diarias de Bitcoin, Ethereum y Solana usando un gráfico de líneas."
      ],
      "metadata": {
        "id": "iwCUE5Ssv3pG"
      }
    },
    {
      "cell_type": "code",
      "source": [],
      "metadata": {
        "id": "SYFE4ph2v6Z2"
      },
      "execution_count": null,
      "outputs": []
    },
    {
      "cell_type": "markdown",
      "source": [
        "Rentabilidades Logarítmicas Acumuladas\n",
        "* Calcula las rentabilidades logarítmicas diarias de todos los activos en data_assets y luego grafica la rentabilidad logarítmica acumulada.\n"
      ],
      "metadata": {
        "id": "BJTWcQJ1v7Cf"
      }
    },
    {
      "cell_type": "code",
      "source": [],
      "metadata": {
        "id": "1c1Mg6q7v6wX"
      },
      "execution_count": null,
      "outputs": []
    },
    {
      "cell_type": "markdown",
      "source": [
        "Rellenar Valores Faltantes en Rentabilidades\n",
        "* Si las rentabilidades logarítmicas calculadas tienen valores NaN, rellénalos con el valor cero y muestra los datos corregidos."
      ],
      "metadata": {
        "id": "lKSMIq4Wv9Db"
      }
    },
    {
      "cell_type": "code",
      "source": [],
      "metadata": {
        "id": "qu1xG1NAv6t4"
      },
      "execution_count": null,
      "outputs": []
    },
    {
      "cell_type": "markdown",
      "source": [
        "Análisis de Distribución para Bitcoin\n",
        "* Grafica el histograma de las rentabilidades de Bitcoin en returns_assets y compáralo con una distribución normal de la misma media y desviación estándar."
      ],
      "metadata": {
        "id": "jU8kLt5Bv_XZ"
      }
    },
    {
      "cell_type": "code",
      "source": [],
      "metadata": {
        "id": "DqhTEClqwBPm"
      },
      "execution_count": null,
      "outputs": []
    },
    {
      "cell_type": "markdown",
      "source": [
        "Distribución de Ethereum y Solana\n",
        "* Genera y grafica histogramas de las rentabilidades diarias de Ethereum y Solana en la misma figura, comparando cada uno con distribuciones normales correspondientes."
      ],
      "metadata": {
        "id": "hSSb9ubLwB3D"
      }
    },
    {
      "cell_type": "code",
      "source": [],
      "metadata": {
        "id": "nqe20-S6wBju"
      },
      "execution_count": null,
      "outputs": []
    },
    {
      "cell_type": "markdown",
      "source": [
        "Creación de una Cartera Equilibrada\n",
        "* Crea una cartera equiponderada con todos los activos en data_assets y calcula su rentabilidad y volatilidad anualizadas."
      ],
      "metadata": {
        "id": "OY42YqrmwE_L"
      }
    },
    {
      "cell_type": "code",
      "source": [],
      "metadata": {
        "id": "Crr6Rs0twBha"
      },
      "execution_count": null,
      "outputs": []
    },
    {
      "cell_type": "markdown",
      "source": [
        "Cartera con Pesos Diferentes\n",
        "* Crea una cartera con los pesos [0.25, 0.15, 0.2, 0.2, 0.2] para Bitcoin, Ethereum, Rivian, Palantir y Snowflake. Calcula y compara la rentabilidad y volatilidad anualizadas de esta cartera frente a la cartera equilibrada."
      ],
      "metadata": {
        "id": "bh6YFTjTwGyh"
      }
    },
    {
      "cell_type": "code",
      "source": [],
      "metadata": {
        "id": "7HxVeIq2wIrD"
      },
      "execution_count": null,
      "outputs": []
    },
    {
      "cell_type": "markdown",
      "source": [
        "Generación de Carteras Simuladas\n",
        "* Usa las rentabilidades de Bitcoin y Ethereum para simular 1000 combinaciones de cartera con pesos que varíen entre 0% a 100% para cada uno, y grafica la frontera eficiente."
      ],
      "metadata": {
        "id": "ZX1PriQBwITp"
      }
    },
    {
      "cell_type": "code",
      "source": [],
      "metadata": {
        "id": "KASRJ1OywIob"
      },
      "execution_count": null,
      "outputs": []
    },
    {
      "cell_type": "markdown",
      "source": [
        "Frontera Eficiente para Startups\n",
        "* Usa las rentabilidades de Rivian, DoorDash y Snowflake para generar y graficar 1000 combinaciones de cartera. Calcula y muestra la frontera eficiente entre estas startups."
      ],
      "metadata": {
        "id": "OrD03R3LwNGA"
      }
    },
    {
      "cell_type": "code",
      "source": [],
      "metadata": {
        "id": "mPr4PyrOwMVv"
      },
      "execution_count": null,
      "outputs": []
    },
    {
      "cell_type": "markdown",
      "source": [
        "Análisis de Correlación entre Activos\n",
        "* Calcula la matriz de correlación de las rentabilidades logarítmicas para todos los activos en data_assets y visualízala usando un mapa de calor."
      ],
      "metadata": {
        "id": "10e22PfZwP6l"
      }
    },
    {
      "cell_type": "code",
      "source": [],
      "metadata": {
        "id": "87-calb5wMwX"
      },
      "execution_count": null,
      "outputs": []
    },
    {
      "cell_type": "markdown",
      "source": [
        "Evaluación de Riesgo y Retorno de Carteras\n",
        "* Compara las rentabilidades y volatilidades anualizadas de las carteras formadas por Bitcoin-Ethereum y Palantir-Rivian en un gráfico, utilizando diferentes combinaciones de pesos y visualizando la relación riesgo-retorno de ambas combinaciones."
      ],
      "metadata": {
        "id": "HkUMDqRuwRlZ"
      }
    },
    {
      "cell_type": "code",
      "source": [],
      "metadata": {
        "id": "MyJvIjaJvwRK"
      },
      "execution_count": null,
      "outputs": []
    }
  ]
}