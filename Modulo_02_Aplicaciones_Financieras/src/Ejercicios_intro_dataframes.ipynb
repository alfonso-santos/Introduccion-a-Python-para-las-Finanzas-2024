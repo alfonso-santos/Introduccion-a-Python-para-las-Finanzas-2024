{
  "nbformat": 4,
  "nbformat_minor": 0,
  "metadata": {
    "colab": {
      "provenance": [],
      "authorship_tag": "ABX9TyPZdsU3SL0ARx0trFzWXFhr",
      "include_colab_link": true
    },
    "kernelspec": {
      "name": "python3",
      "display_name": "Python 3"
    },
    "language_info": {
      "name": "python"
    }
  },
  "cells": [
    {
      "cell_type": "markdown",
      "metadata": {
        "id": "view-in-github",
        "colab_type": "text"
      },
      "source": [
        "<a href=\"https://colab.research.google.com/github/alfonso-santos/Introduccion-a-Python-para-las-Finanzas-2024/blob/main/Modulo_02_Aplicaciones_Financieras/src/Ejercicios_intro_dataframes.ipynb\" target=\"_parent\"><img src=\"https://colab.research.google.com/assets/colab-badge.svg\" alt=\"Open In Colab\"/></a>"
      ]
    },
    {
      "cell_type": "markdown",
      "source": [
        "1. Crea un DataFrame llamado df que contenga los siguientes datos sobre productos:"
      ],
      "metadata": {
        "id": "qdDtzpUpX32X"
      }
    },
    {
      "cell_type": "code",
      "execution_count": null,
      "metadata": {
        "id": "KVljAljJX0Yg"
      },
      "outputs": [],
      "source": [
        "Producto: ['Manzana', 'Banana', 'Naranja', 'Pera', 'Kiwi']\n",
        "Precio: [1.5, 0.5, 1.2, 1.0, 2.0]\n",
        "Cantidad: [100, 150, 200, 120, 80]\n",
        "Categoría: ['Fruta', 'Fruta', 'Fruta', 'Fruta', 'Fruta']\n",
        "\n",
        "# Ejercicio 1\n"
      ]
    },
    {
      "cell_type": "markdown",
      "source": [
        "2. Acceso a Filas y Columnas\n",
        "* Ejercicio 2.1: Accede a la primera fila del DataFrame df y muéstrala.\n",
        "* Ejercicio 2.2: Accede a la columna Precio y muéstrala"
      ],
      "metadata": {
        "id": "EtNDKhg4YGXV"
      }
    },
    {
      "cell_type": "code",
      "source": [
        "# Ejercicio 2"
      ],
      "metadata": {
        "id": "pyYpQ8AhYO_K"
      },
      "execution_count": null,
      "outputs": []
    },
    {
      "cell_type": "markdown",
      "source": [
        "3. Filtrar Datos: Filtra los productos cuyo precio sea mayor a 1.0 y muéstralos."
      ],
      "metadata": {
        "id": "-B0JVRPbYTI2"
      }
    },
    {
      "cell_type": "code",
      "source": [
        "# Ejercicio 3"
      ],
      "metadata": {
        "id": "WTZuvi8BYUGT"
      },
      "execution_count": null,
      "outputs": []
    },
    {
      "cell_type": "markdown",
      "source": [
        "4. Calcular el Valor Total: Crea una nueva columna llamada Valor Total que calcule el valor total de cada producto (Precio × Cantidad)"
      ],
      "metadata": {
        "id": "RHnYsEmTYXbG"
      }
    },
    {
      "cell_type": "code",
      "source": [
        "# Ejercicio 4"
      ],
      "metadata": {
        "id": "wxR5knmaYfcG"
      },
      "execution_count": null,
      "outputs": []
    },
    {
      "cell_type": "markdown",
      "source": [
        "5. Estadísticas Básicas: Calcula y muestra la media del precio y la cantidad de los productos."
      ],
      "metadata": {
        "id": "-Vdzao8_Yjmk"
      }
    },
    {
      "cell_type": "code",
      "source": [
        "# Ejercicio 5"
      ],
      "metadata": {
        "id": "heENUO48YjPn"
      },
      "execution_count": null,
      "outputs": []
    },
    {
      "cell_type": "markdown",
      "source": [
        "6. Agrupar Datos: Agrupa los productos por Categoría y calcula la suma del Valor Total para cada categoría."
      ],
      "metadata": {
        "id": "n3vXkD09YnZt"
      }
    },
    {
      "cell_type": "code",
      "source": [
        "# Ejercicio 6"
      ],
      "metadata": {
        "id": "odNAW0KuYrgd"
      },
      "execution_count": null,
      "outputs": []
    },
    {
      "cell_type": "markdown",
      "source": [
        "7. Ordenar Datos: Ordena el DataFrame por Precio de forma descendente y muéstralo."
      ],
      "metadata": {
        "id": "IGHTxKTwYu8n"
      }
    },
    {
      "cell_type": "code",
      "source": [
        "# Ejercicio 7"
      ],
      "metadata": {
        "id": "E_YqrNDKYueq"
      },
      "execution_count": null,
      "outputs": []
    },
    {
      "cell_type": "markdown",
      "source": [
        "8. Datos Faltantes: Crea un DataFrame df2 que contenga algunos valores faltantes (por ejemplo, usa np.nan para representar valores faltantes). Luego, usa el método .fillna() para rellenar esos valores con 0."
      ],
      "metadata": {
        "id": "uerOc6mCY5Pu"
      }
    },
    {
      "cell_type": "code",
      "source": [
        "# Ejercicio 8"
      ],
      "metadata": {
        "id": "0568N150ZCyE"
      },
      "execution_count": null,
      "outputs": []
    },
    {
      "cell_type": "markdown",
      "source": [
        "9. Crear un DataFrame a Partir de un Diccionario: Crea tu propio DataFrame utilizando un diccionario que contenga al menos 5 productos con sus precios y cantidades."
      ],
      "metadata": {
        "id": "DWfOna-eZElc"
      }
    },
    {
      "cell_type": "code",
      "source": [
        "# Ejercicio 9"
      ],
      "metadata": {
        "id": "ell6Hk-iZJzY"
      },
      "execution_count": null,
      "outputs": []
    }
  ]
}