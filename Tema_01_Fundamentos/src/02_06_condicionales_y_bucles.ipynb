{
 "cells": [
  {
   "cell_type": "markdown",
   "metadata": {},
   "source": [
    "A partir de ahora cobran vital importancia los **ESPACIOS**. Se utilizarán para delimitar la *estructura jerárquica* del código y el *contexto* de las variables.\n",
    "\n",
    "* Utilizaremos el tabulador para añadir un *nivel de anidamiento*."
   ]
  },
  {
   "cell_type": "code",
   "execution_count": 2,
   "metadata": {},
   "outputs": [],
   "source": [
    "#NIVEL 1\n",
    "    #NIVEL 2\n",
    "        #NIVEL 3\n",
    "            #NIVEL 4"
   ]
  },
  {
   "cell_type": "markdown",
   "metadata": {},
   "source": [
    "# Condicionales\n",
    "\n",
    "Las instrucciones condicionales se utilizan para **ejecutar o no** determinadas **partes del código** en función de **si se cumplen o no** algunas **condiciones**.\n",
    "\n",
    "Al final, son como las decisiones que tomamos en la vida diaria. Imagina que tienes una decisión que tomar: si hoy llueve, llevarás un paraguas contigo. Si no llueve, no lo llevarás.\n",
    "\n",
    "```\n",
    "si hoy llueve entonces\n",
    "    llevar paraguas\n",
    "si no\n",
    "    no llevar paraguas\n",
    "```"
   ]
  },
  {
   "cell_type": "markdown",
   "metadata": {},
   "source": [
    "## if\n",
    "```python\n",
    "if condicion:\n",
    "    codigo a ejecutar\n",
    "```\n",
    "\n",
    "- La condición puede ser `True` o `False`, se usan operadores lógicos (`and` / `or`) o relacionales (`>, <, >=, <=`)\n",
    "- La línea tiene que terminar en `:`\n",
    "- El bloque de código se ejecuta cuando **se cumple** la condición del `if`"
   ]
  },
  {
   "cell_type": "code",
   "execution_count": 3,
   "metadata": {},
   "outputs": [],
   "source": [
    "llueve = True\n",
    "\n",
    "if llueve == True: # Se lee como \"Si llueve entonces...\"\n",
    "    llevar_paraguas = True"
   ]
  },
  {
   "cell_type": "markdown",
   "metadata": {},
   "source": [
    "Aquí, `llueve` es la condición que estamos comprobando. Si `llueve` es `True` (es decir, si está lloviendo), entonces el código dentro del bloque `if` se ejecutará, y `llevar_paraguas` se establecerá en `True`."
   ]
  },
  {
   "cell_type": "code",
   "execution_count": 4,
   "metadata": {},
   "outputs": [
    {
     "name": "stdout",
     "output_type": "stream",
     "text": [
      "x es mayor que 5\n"
     ]
    }
   ],
   "source": [
    "x = 7\n",
    "\n",
    "if x > 5: # Se lee como \"si x es mayor que 5 entonces...\"\n",
    "    print(\"x es mayor que 5\")\n"
   ]
  },
  {
   "cell_type": "markdown",
   "metadata": {},
   "source": [
    "## if else\n",
    "```python\n",
    "if condicion:\n",
    "    codigo a ejecutar\n",
    "else:\n",
    "    otro codigo a ejecutar\n",
    "```\n",
    "- Se añade otra línea con `else` para contemplar todas las situacion que no se han tenido en cuenta en el caso del `if`\n",
    "- También tiene su propio codigo que solo se ejecuta cuando **no se cumple** la condición del `if`"
   ]
  },
  {
   "cell_type": "code",
   "execution_count": 5,
   "metadata": {},
   "outputs": [],
   "source": [
    "llueve = False\n",
    "\n",
    "if llueve == True:  # Se lee como \"Si llueve entonces...\"\n",
    "    llevar_paraguas = True\n",
    "else:\n",
    "    llevar_paraguas = False # Se lee como \"Si no...\""
   ]
  },
  {
   "cell_type": "markdown",
   "metadata": {},
   "source": [
    "Aquí, `llueve` es la condición que estamos comprobando. Si `llueve` es `True` (es decir, si está lloviendo), entonces el código dentro del bloque `if` se ejecutará, y `llevar_paraguas` se establecerá en `True`.\n",
    "\n",
    "Si `llueve` es `False` (no está lloviendo), entonces el código dentro del bloque `else` se ejecutará, y `llevar_paraguas` se establecerá en `False`."
   ]
  },
  {
   "cell_type": "code",
   "execution_count": 6,
   "metadata": {},
   "outputs": [
    {
     "name": "stdout",
     "output_type": "stream",
     "text": [
      "x es mayor que 5\n"
     ]
    }
   ],
   "source": [
    "x = 7\n",
    "\n",
    "if x > 5: # Se lee como \"si x es mayor que 5 entonces...\"\n",
    "    print(\"x es mayor que 5\")\n",
    "else: # Se lee como \"si no...\"\n",
    "    print(\"x es menor que 5\")"
   ]
  },
  {
   "cell_type": "code",
   "execution_count": 7,
   "metadata": {},
   "outputs": [
    {
     "name": "stdout",
     "output_type": "stream",
     "text": [
      "x es menor que 5\n"
     ]
    }
   ],
   "source": [
    "x = 4\n",
    "\n",
    "if x > 5:\n",
    "    print(\"x es mayor que 5\")\n",
    "else:\n",
    "    print(\"x es menor que 5\")"
   ]
  },
  {
   "cell_type": "markdown",
   "metadata": {},
   "source": [
    "## elif\n",
    "```python\n",
    "if condicion:\n",
    "    codigo a ejecutar 1\n",
    "elif otra condicion:\n",
    "    codigo a ejecutar 2\n",
    "else:\n",
    "    otro codigo a ejecutar 3"
   ]
  },
  {
   "cell_type": "code",
   "execution_count": 1,
   "metadata": {},
   "outputs": [
    {
     "name": "stdout",
     "output_type": "stream",
     "text": [
      "x < y\n"
     ]
    }
   ],
   "source": [
    "x = 10\n",
    "y = 12\n",
    "\n",
    "if x > y: # Se lee como \"si x es mayor que y entonces...\"\n",
    "    print(\"x > y\")    \n",
    "elif x < y: # Se lee como \"si no, si x es menor que y entonces...\"\n",
    "    print(\"x < y\")\n",
    "else: # Se lee como \"si no...\"\n",
    "    print(\"x = y\")"
   ]
  },
  {
   "cell_type": "markdown",
   "metadata": {},
   "source": [
    "# Bucles\n",
    "\n",
    "Los bucles se utilizan para **repetir** un bloque de instrucciones **hasta que o mientras que** se cumpla una **condición**."
   ]
  },
  {
   "cell_type": "markdown",
   "metadata": {},
   "source": [
    "## for\n",
    "```python\n",
    "for variable in algo:\n",
    "    codigo a ejecutar\n",
    "```\n",
    "\n",
    "- Ese algo puede ser rango, lista, tupla...."
   ]
  },
  {
   "cell_type": "code",
   "execution_count": 5,
   "metadata": {},
   "outputs": [
    {
     "name": "stdout",
     "output_type": "stream",
     "text": [
      "0\n",
      "1\n",
      "2\n",
      "3\n",
      "4\n"
     ]
    }
   ],
   "source": [
    "# Podemos usar un range para iterar sobre una secuencia de números\n",
    "for i in range(5): # Se lee como \"para cada i en el rango de 0 a 5...\"\n",
    "    print(i)\n"
   ]
  },
  {
   "cell_type": "code",
   "execution_count": 7,
   "metadata": {},
   "outputs": [
    {
     "name": "stdout",
     "output_type": "stream",
     "text": [
      "perro\n",
      "gato\n",
      "pez\n"
     ]
    }
   ],
   "source": [
    "# podemos iterar una lista\n",
    "x = ['perro', 'gato', 'pez']\n",
    "for i in x: # Se lee como \"para cada i en x...\"\n",
    "    print(i)"
   ]
  },
  {
   "cell_type": "markdown",
   "metadata": {},
   "source": [
    "- Los diccionarios se pueden iterar de diversas formas"
   ]
  },
  {
   "cell_type": "code",
   "execution_count": 24,
   "metadata": {},
   "outputs": [
    {
     "name": "stdout",
     "output_type": "stream",
     "text": [
      "perro\n",
      "gato\n",
      "pez\n"
     ]
    }
   ],
   "source": [
    "# podemos iterar un diccionario con sus claves\n",
    "x = {'perro': 1, 'gato': 2, 'pez': 3}\n",
    "for i in x.keys(): # Se lee como \"para cada i en las claves de x...\"\n",
    "    print(i)"
   ]
  },
  {
   "cell_type": "code",
   "execution_count": 23,
   "metadata": {},
   "outputs": [
    {
     "name": "stdout",
     "output_type": "stream",
     "text": [
      "1\n",
      "2\n",
      "3\n"
     ]
    }
   ],
   "source": [
    "# podemos iterar un diccionario con sus valores \n",
    "x = {'perro': 1, 'gato': 2, 'pez': 3}\n",
    "for i in x.values(): # Se lee como \"para cada i en los valores de x...\"\n",
    "    print(i)"
   ]
  },
  {
   "cell_type": "code",
   "execution_count": 22,
   "metadata": {},
   "outputs": [
    {
     "name": "stdout",
     "output_type": "stream",
     "text": [
      "perro 1\n",
      "gato 2\n",
      "pez 3\n"
     ]
    }
   ],
   "source": [
    "# podemos iterar un diccionario con sus valores y claves y desempaquetarlos\n",
    "x = {'perro': 1, 'gato': 2, 'pez': 3}\n",
    "for i, j in x.items(): # Se lee como \"para cada i, j en los items de x...\"\n",
    "    print(i, j)"
   ]
  },
  {
   "cell_type": "markdown",
   "metadata": {},
   "source": [
    "- Se pueden programar bucles anidados"
   ]
  },
  {
   "cell_type": "code",
   "execution_count": 12,
   "metadata": {},
   "outputs": [
    {
     "name": "stdout",
     "output_type": "stream",
     "text": [
      "[1, 2, 3]\n",
      "1\n",
      "2\n",
      "3\n",
      "[4, 5, 6]\n",
      "4\n",
      "5\n",
      "6\n",
      "[7, 8, 9]\n",
      "7\n",
      "8\n",
      "9\n"
     ]
    }
   ],
   "source": [
    "# Una lista que contiene, a su vez, otras listas.\n",
    "lista_anidada = [[1,2,3], [4,5,6], [7,8,9]]\n",
    "\n",
    "for i in lista_anidada: # Se lee como \"para cada i en lista_anidada...\"\n",
    "    print(i)\n",
    "    for j in i: # Se lee como \"para cada j en i...\"\n",
    "        print(j)"
   ]
  },
  {
   "cell_type": "markdown",
   "metadata": {},
   "source": [
    "- Se pueden usar muchas funciones para ayudar en la iteración:\n",
    "    - enumerate()\n",
    "    - zip()\n",
    "    - sorted()\n",
    "    - reversed()"
   ]
  },
  {
   "cell_type": "code",
   "execution_count": 8,
   "metadata": {},
   "outputs": [
    {
     "name": "stdout",
     "output_type": "stream",
     "text": [
      "3\n",
      "2\n",
      "1\n"
     ]
    }
   ],
   "source": [
    "for l in reversed([1, 2, 3]):\n",
    "    print(l)"
   ]
  },
  {
   "cell_type": "code",
   "execution_count": 14,
   "metadata": {},
   "outputs": [
    {
     "name": "stdout",
     "output_type": "stream",
     "text": [
      "0 perro\n",
      "1 gato\n",
      "2 pez\n"
     ]
    }
   ],
   "source": [
    "lista = ['perro', 'gato', 'pez']\n",
    "\n",
    "for i, palabra in enumerate(lista): # con enumerate tenemos el índice y el valor\n",
    "    print(i, palabra)"
   ]
  },
  {
   "cell_type": "code",
   "execution_count": 15,
   "metadata": {},
   "outputs": [
    {
     "name": "stdout",
     "output_type": "stream",
     "text": [
      "juan 20\n",
      "maria 30\n",
      "pedro 40\n"
     ]
    }
   ],
   "source": [
    "nombre = ['juan', 'maria', 'pedro']\n",
    "edad = [20, 30, 40]\n",
    "\n",
    "for i, j in zip(nombre, edad): # zip nos permite iterar sobre dos listas al mismo tiempo\n",
    "    print(i, j)"
   ]
  },
  {
   "cell_type": "markdown",
   "metadata": {},
   "source": [
    "## while\n",
    "```python\n",
    "while condicion:  \n",
    "    codigo a ajecutar\n",
    "```\n",
    "\n",
    "- Con while mientras que se cumpla la condicion se ejecuta el código en bucle"
   ]
  },
  {
   "cell_type": "code",
   "execution_count": 16,
   "metadata": {},
   "outputs": [
    {
     "name": "stdout",
     "output_type": "stream",
     "text": [
      "0\n",
      "1\n",
      "2\n",
      "3\n",
      "4\n",
      "fin\n"
     ]
    }
   ],
   "source": [
    "x = 0\n",
    "\n",
    "while x < 5: # Se lee como \"mientras x sea menor que 5...\"\n",
    "    print(x)\n",
    "    x += 1\n",
    "\n",
    "print(\"fin\")"
   ]
  },
  {
   "cell_type": "markdown",
   "metadata": {},
   "source": [
    "## break"
   ]
  },
  {
   "cell_type": "markdown",
   "metadata": {},
   "source": [
    "- Se utiliza para acabar un bucle"
   ]
  },
  {
   "cell_type": "code",
   "execution_count": 18,
   "metadata": {},
   "outputs": [
    {
     "name": "stdout",
     "output_type": "stream",
     "text": [
      "0\n",
      "1\n",
      "2\n",
      "3\n"
     ]
    }
   ],
   "source": [
    "for i in range(5):\n",
    "    print(i)\n",
    "    if i == 3:\n",
    "        break"
   ]
  },
  {
   "cell_type": "markdown",
   "metadata": {},
   "source": [
    "## continue"
   ]
  },
  {
   "cell_type": "markdown",
   "metadata": {},
   "source": [
    "- Se utiliza para saltar una iteracion, continua con el bucle"
   ]
  },
  {
   "cell_type": "code",
   "execution_count": 19,
   "metadata": {},
   "outputs": [
    {
     "name": "stdout",
     "output_type": "stream",
     "text": [
      "0\n",
      "1\n",
      "2\n",
      "4\n"
     ]
    }
   ],
   "source": [
    "for i in range(5):\n",
    "    if i == 3:\n",
    "        continue\n",
    "    print(i)"
   ]
  }
 ],
 "metadata": {
  "kernelspec": {
   "display_name": "Python 3.8.8 ('base')",
   "language": "python",
   "name": "python3"
  },
  "language_info": {
   "codemirror_mode": {
    "name": "ipython",
    "version": 3
   },
   "file_extension": ".py",
   "mimetype": "text/x-python",
   "name": "python",
   "nbconvert_exporter": "python",
   "pygments_lexer": "ipython3",
   "version": "3.10.6"
  },
  "orig_nbformat": 4,
  "vscode": {
   "interpreter": {
    "hash": "3a2a03ea413f8be244ba01daf0e257f98f0dabeb03c7836e7000a0f3738aa8c9"
   }
  }
 },
 "nbformat": 4,
 "nbformat_minor": 2
}
